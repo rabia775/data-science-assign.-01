{
 "cells": [
  {
   "cell_type": "code",
   "execution_count": 1,
   "id": "60404bfe",
   "metadata": {},
   "outputs": [
    {
     "name": "stdout",
     "output_type": "stream",
     "text": [
      "Twinkle Twinkle Litter Star,\n",
      "         How I Wounder What You Are!\n",
      "              Up Above The World So High;\n",
      "              Like A Dimond In the Sky.\n",
      "Twinkle Twinkle Litter Star,\n",
      "         How I Wounder What You Are!\n"
     ]
    }
   ],
   "source": [
    "a = \"Twinkle Twinkle Litter Star,\";\n",
    "b = \"         How I Wounder What You Are!\";\n",
    "c = \"              Up Above The World So High;\";\n",
    "d = \"              Like A Dimond In the Sky.\";\n",
    "e = \"Twinkle Twinkle Litter Star,\";\n",
    "f = \"         How I Wounder What You Are!\";\n",
    "print (a)\n",
    "print (b)\n",
    "print (c)\n",
    "print (d)\n",
    "print (e)\n",
    "print (f)"
   ]
  },
  {
   "cell_type": "code",
   "execution_count": 2,
   "id": "bd586e15",
   "metadata": {
    "scrolled": false
   },
   "outputs": [
    {
     "name": "stdout",
     "output_type": "stream",
     "text": [
      "python version\n",
      "3.8.8 (default, Apr 13 2021, 15:08:03) [MSC v.1916 64 bit (AMD64)]\n",
      "python info\n",
      "sys.version_info(major=3, minor=8, micro=8, releaselevel='final', serial=0)\n"
     ]
    }
   ],
   "source": [
    "import sys \n",
    "print (\"python version\")\n",
    "print (sys.version)\n",
    "print (\"python info\")\n",
    "print (sys.version_info)"
   ]
  },
  {
   "cell_type": "code",
   "execution_count": 3,
   "id": "d68f42f5",
   "metadata": {
    "scrolled": true
   },
   "outputs": [
    {
     "name": "stdout",
     "output_type": "stream",
     "text": [
      "2022-01-01 20:25:33.449456\n"
     ]
    }
   ],
   "source": [
    "import datetime\n",
    "TodayDay = datetime.datetime.now()\n",
    "print(TodayDay)"
   ]
  },
  {
   "cell_type": "code",
   "execution_count": 11,
   "id": "8cfe2682",
   "metadata": {},
   "outputs": [
    {
     "name": "stdout",
     "output_type": "stream",
     "text": [
      "enter the radius of a circle :3.1\n",
      "area of the circle is : 30.190705400997913\n"
     ]
    }
   ],
   "source": [
    "import math\n",
    "radius = float (input(\"enter the radius of a circle :\"))\n",
    "area = math.pi * radius * radius\n",
    "print (\"area of the circle is : {0}\".format (area))"
   ]
  },
  {
   "cell_type": "code",
   "execution_count": 37,
   "id": "80127b1f",
   "metadata": {},
   "outputs": [
    {
     "name": "stdout",
     "output_type": "stream",
     "text": [
      "enter your first name:Hameer\n",
      " enter your last name:Wahid\n",
      "WahidHameer\n"
     ]
    }
   ],
   "source": [
    "firstname = input(\"enter your first name:\")\n",
    "lastname = input(\" enter your last name:\")\n",
    "print (lastname + firstname)"
   ]
  },
  {
   "cell_type": "code",
   "execution_count": 42,
   "id": "78a8f18d",
   "metadata": {},
   "outputs": [
    {
     "name": "stdout",
     "output_type": "stream",
     "text": [
      "enter the 1st number:10\n",
      "enter the 2nd number:26\n",
      "10 + 26 = 36\n"
     ]
    }
   ],
   "source": [
    "def addition (x,y):\n",
    "    result = x + y\n",
    "    print (x, \"+\" ,y, \"=\", result)\n",
    "n1 = int(input(\"enter the 1st number:\"))\n",
    "n2 = int(input(\"enter the 2nd number:\"))\n",
    "addition (n1,n2)"
   ]
  },
  {
   "cell_type": "code",
   "execution_count": null,
   "id": "8da6b0d9",
   "metadata": {},
   "outputs": [],
   "source": []
  }
 ],
 "metadata": {
  "kernelspec": {
   "display_name": "Python 3",
   "language": "python",
   "name": "python3"
  },
  "language_info": {
   "codemirror_mode": {
    "name": "ipython",
    "version": 3
   },
   "file_extension": ".py",
   "mimetype": "text/x-python",
   "name": "python",
   "nbconvert_exporter": "python",
   "pygments_lexer": "ipython3",
   "version": "3.8.8"
  }
 },
 "nbformat": 4,
 "nbformat_minor": 5
}
